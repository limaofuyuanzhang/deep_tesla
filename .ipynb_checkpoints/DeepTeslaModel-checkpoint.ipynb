{
 "cells": [
  {
   "cell_type": "markdown",
   "metadata": {},
   "source": [
    "# 加载数据"
   ]
  },
  {
   "cell_type": "code",
   "execution_count": 1,
   "metadata": {
    "collapsed": true
   },
   "outputs": [],
   "source": [
    "# 加载数据\n",
    "import datasets\n",
    "(X_train, y_train), (X_test, y_test) = datasets.load_data()\n",
    "n_train, n_test = X_train.shape[0], X_test.shape[0]\n"
   ]
  },
  {
   "cell_type": "code",
   "execution_count": 2,
   "metadata": {},
   "outputs": [
    {
     "name": "stdout",
     "output_type": "stream",
     "text": [
      "(24300, 64, 64, 3)\n",
      "(24300,)\n",
      "(2700, 64, 64, 3)\n",
      "(2700,)\n"
     ]
    }
   ],
   "source": [
    "print(X_train.shape)\n",
    "print(y_train.shape)\n",
    "print(X_test.shape)\n",
    "print(y_test.shape)"
   ]
  },
  {
   "cell_type": "code",
   "execution_count": 5,
   "metadata": {},
   "outputs": [
    {
     "name": "stderr",
     "output_type": "stream",
     "text": [
      "/Users/lintao/anaconda/lib/python3.6/site-packages/ipykernel_launcher.py:9: UserWarning: Update your `Conv2D` call to the Keras 2 API: `Conv2D(24, (5, 5), activation=\"relu\", strides=(2, 2), padding=\"valid\")`\n",
      "  if __name__ == '__main__':\n",
      "/Users/lintao/anaconda/lib/python3.6/site-packages/ipykernel_launcher.py:10: UserWarning: Update your `Conv2D` call to the Keras 2 API: `Conv2D(36, (5, 5), activation=\"relu\", strides=(2, 2), padding=\"valid\")`\n",
      "  # Remove the CWD from sys.path while we load stuff.\n",
      "/Users/lintao/anaconda/lib/python3.6/site-packages/ipykernel_launcher.py:11: UserWarning: Update your `Conv2D` call to the Keras 2 API: `Conv2D(48, (5, 5), activation=\"relu\", strides=(2, 2), padding=\"valid\")`\n",
      "  # This is added back by InteractiveShellApp.init_path()\n",
      "/Users/lintao/anaconda/lib/python3.6/site-packages/ipykernel_launcher.py:12: UserWarning: Update your `Conv2D` call to the Keras 2 API: `Conv2D(64, (3, 3), activation=\"relu\", strides=(1, 1), padding=\"valid\")`\n",
      "  if sys.path[0] == '':\n",
      "/Users/lintao/anaconda/lib/python3.6/site-packages/ipykernel_launcher.py:13: UserWarning: Update your `Conv2D` call to the Keras 2 API: `Conv2D(64, (3, 3), activation=\"relu\", strides=(1, 1), padding=\"valid\")`\n",
      "  del sys.path[0]\n"
     ]
    },
    {
     "name": "stdout",
     "output_type": "stream",
     "text": [
      "Train on 19440 samples, validate on 4860 samples\n",
      "Epoch 1/10\n",
      "19440/19440 [==============================] - 73s - loss: 19.7594 - acc: 0.0701 - val_loss: 11.7483 - val_acc: 0.0706\n",
      "Epoch 2/10\n",
      "19440/19440 [==============================] - 83s - loss: 18.0873 - acc: 0.0803 - val_loss: 12.6468 - val_acc: 0.0562\n",
      "Epoch 3/10\n",
      "19440/19440 [==============================] - 191s - loss: 17.7163 - acc: 0.0864 - val_loss: 12.9692 - val_acc: 0.0648\n",
      "Epoch 4/10\n",
      "19440/19440 [==============================] - 90s - loss: 17.5239 - acc: 0.0935 - val_loss: 12.6314 - val_acc: 0.0617\n",
      "Epoch 5/10\n",
      "19440/19440 [==============================] - 79s - loss: 17.4622 - acc: 0.0975 - val_loss: 12.7737 - val_acc: 0.0597\n",
      "Epoch 6/10\n",
      "19440/19440 [==============================] - 77s - loss: 17.4007 - acc: 0.1013 - val_loss: 12.6939 - val_acc: 0.0671\n",
      "Epoch 7/10\n",
      "19440/19440 [==============================] - 81s - loss: 17.3796 - acc: 0.1065 - val_loss: 12.7250 - val_acc: 0.0621\n",
      "Epoch 8/10\n",
      "19440/19440 [==============================] - 81s - loss: 17.3525 - acc: 0.1084 - val_loss: 12.3118 - val_acc: 0.0599\n",
      "Epoch 9/10\n",
      "19440/19440 [==============================] - 72s - loss: 17.2918 - acc: 0.1205 - val_loss: 12.4521 - val_acc: 0.0601\n",
      "Epoch 10/10\n",
      "19440/19440 [==============================] - 77s - loss: 17.2598 - acc: 0.1284 - val_loss: 12.4773 - val_acc: 0.0601\n",
      "[[ 0.43225953]\n",
      " [ 0.31869385]\n",
      " [ 0.20199671]\n",
      " ..., \n",
      " [ 0.99910146]\n",
      " [ 0.99926853]\n",
      " [ 0.99925607]]\n"
     ]
    }
   ],
   "source": [
    "from keras.layers import *\n",
    "from keras.models import Sequential\n",
    "from keras import optimizers\n",
    "import params\n",
    "\n",
    "input_shape = (params.FLAGS.img_h, params.FLAGS.img_w, params.FLAGS.img_c)\n",
    "model = Sequential()\n",
    "model.add(Lambda(lambda x:x/255.-0.5, input_shape=input_shape))\n",
    "model.add(Convolution2D(24,5,5,border_mode='valid', activation='relu', subsample=(2,2)))\n",
    "model.add(Convolution2D(36,5,5,border_mode='valid', activation='relu', subsample=(2,2)))\n",
    "model.add(Convolution2D(48,5,5,border_mode='valid', activation='relu', subsample=(2,2)))\n",
    "model.add(Convolution2D(64,3,3,border_mode='valid', activation='relu', subsample=(1,1)))\n",
    "model.add(Convolution2D(64,3,3,border_mode='valid', activation='relu', subsample=(1,1)))\n",
    "model.add(Flatten())\n",
    "model.add(Dense(1164, activation='relu'))\n",
    "model.add(Dense(100, activation='relu'))\n",
    "model.add(Dense(50, activation='relu'))\n",
    "model.add(Dense(10, activation='relu'))\n",
    "model.add(Dense(1, activation='tanh'))\n",
    "adam = optimizers.Adam(lr=0.0001, beta_1=0.9, beta_2=0.999, epsilon=1e-08, decay=0.0)\n",
    "model.compile(optimizer=adam, loss=\"mse\", metrics=['mse'])\n",
    "model.fit(x=X_train,y=y_train,epochs=10,validation_split=0.2)\n",
    "\n",
    "pred = model.predict(X_test)\n",
    "print(pred)\n",
    "\n",
    "model.save_weights('model.h5')\n",
    "with open('model.json', 'w') as f:\n",
    "    f.write(model.to_json())"
   ]
  },
  {
   "cell_type": "code",
   "execution_count": 15,
   "metadata": {},
   "outputs": [
    {
     "name": "stdout",
     "output_type": "stream",
     "text": [
      "Train on 19440 samples, validate on 4860 samples\n",
      "Epoch 1/10\n",
      "19440/19440 [==============================] - 74s - loss: 20.3049 - acc: 0.0573 - val_loss: 13.3552 - val_acc: 0.0638\n",
      "Epoch 2/10\n",
      "19440/19440 [==============================] - 70s - loss: 18.6024 - acc: 0.0718 - val_loss: 12.5663 - val_acc: 0.0708\n",
      "Epoch 3/10\n",
      "19440/19440 [==============================] - 70s - loss: 17.8103 - acc: 0.0837 - val_loss: 13.1950 - val_acc: 0.0644\n",
      "Epoch 4/10\n",
      "19440/19440 [==============================] - 70s - loss: 17.5566 - acc: 0.0943 - val_loss: 13.7008 - val_acc: 0.0642\n",
      "Epoch 5/10\n",
      "19440/19440 [==============================] - 72s - loss: 17.4881 - acc: 0.1062 - val_loss: 13.8139 - val_acc: 0.0578\n",
      "Epoch 6/10\n",
      "19440/19440 [==============================] - 72s - loss: 17.4148 - acc: 0.1165 - val_loss: 13.8821 - val_acc: 0.0632\n",
      "Epoch 7/10\n",
      "19440/19440 [==============================] - 74s - loss: 17.3780 - acc: 0.1192 - val_loss: 13.8678 - val_acc: 0.0584\n",
      "Epoch 8/10\n",
      "19440/19440 [==============================] - 70s - loss: 17.3547 - acc: 0.1229 - val_loss: 14.3517 - val_acc: 0.0613\n",
      "Epoch 9/10\n",
      "19440/19440 [==============================] - 69s - loss: 17.3236 - acc: 0.1287 - val_loss: 14.2436 - val_acc: 0.0615\n",
      "Epoch 10/10\n",
      "19440/19440 [==============================] - 70s - loss: 17.3395 - acc: 0.1298 - val_loss: 14.1048 - val_acc: 0.0572\n"
     ]
    },
    {
     "data": {
      "text/plain": [
       "<keras.callbacks.History at 0x14559de80>"
      ]
     },
     "execution_count": 15,
     "metadata": {},
     "output_type": "execute_result"
    }
   ],
   "source": [
    "from keras.layers import *\n",
    "from keras.models import Model\n",
    "from keras import optimizers\n",
    "import keras\n",
    "\n",
    "inputs = Input(shape=(params.FLAGS.img_h, params.FLAGS.img_w, params.FLAGS.img_c))\n",
    "x=Lambda(lambda x:x/255.0-0.5)(inputs)\n",
    "x=Conv2D(24, (5, 5), activation=\"relu\", strides=(2, 2), padding=\"valid\")(x)\n",
    "x=Conv2D(36, (5, 5), activation=\"relu\", strides=(2, 2), padding=\"valid\")(x)\n",
    "x=Conv2D(48, (5, 5), activation=\"relu\", strides=(2, 2), padding=\"valid\")(x)\n",
    "x=Conv2D(64, (3, 3), activation=\"relu\", strides=(1, 1), padding=\"valid\")(x)\n",
    "x=Conv2D(64, (3, 3), activation=\"relu\", strides=(1, 1), padding=\"valid\")(x)\n",
    "x=Flatten()(x)\n",
    "x=Dense(1164, activation='relu')(x)\n",
    "x=Dense(100, activation='relu')(x)\n",
    "x=Dense(50, activation='relu')(x)\n",
    "x=Dense(10, activation='relu')(x)\n",
    "outputs=Dense(1, activation='tanh')(x)\n",
    "model = Model(inputs=inputs,outputs=outputs)\n",
    "model.compile(optimizer=optimizers.Adadelta(),\n",
    "              loss='mse',\n",
    "              metrics=['mse'])\n",
    "model.fit(x=X_train,y=y_train,epochs=10,validation_split=0.2)"
   ]
  },
  {
   "cell_type": "code",
   "execution_count": 16,
   "metadata": {
    "collapsed": true
   },
   "outputs": [],
   "source": [
    "model.save_weights('nvidia-model.h5')\n",
    "with open('nvidia-model.json', 'w') as f:\n",
    "    f.write(model.to_json())"
   ]
  },
  {
   "cell_type": "code",
   "execution_count": 17,
   "metadata": {},
   "outputs": [
    {
     "name": "stdout",
     "output_type": "stream",
     "text": [
      "2688/2700 [============================>.] - ETA: 0sTest loss is:[4.732195732593536, 0.051481481481481482]\n"
     ]
    }
   ],
   "source": [
    "test_loss= model.evaluate(X_test, y_test)\n",
    "print('Test loss is:{}'.format(test_loss))\n"
   ]
  },
  {
   "cell_type": "code",
   "execution_count": 11,
   "metadata": {},
   "outputs": [
    {
     "name": "stdout",
     "output_type": "stream",
     "text": [
      "Train on 19440 samples, validate on 4860 samples\n",
      "Epoch 1/10\n",
      "19440/19440 [==============================] - 136s - loss: 7.0530 - acc: 0.1204 - val_loss: 13.9224 - val_acc: 0.0407\n",
      "Epoch 2/10\n",
      "19440/19440 [==============================] - 137s - loss: 0.7925 - acc: 0.2345 - val_loss: 13.6628 - val_acc: 0.0479\n",
      "Epoch 3/10\n",
      "19440/19440 [==============================] - 134s - loss: 0.4389 - acc: 0.2859 - val_loss: 12.5961 - val_acc: 0.0368\n",
      "Epoch 4/10\n",
      "19440/19440 [==============================] - 129s - loss: 0.3034 - acc: 0.3218 - val_loss: 13.9137 - val_acc: 0.0342\n",
      "Epoch 5/10\n",
      "19440/19440 [==============================] - 139s - loss: 0.2555 - acc: 0.3406 - val_loss: 11.6872 - val_acc: 0.0807\n",
      "Epoch 6/10\n",
      "19440/19440 [==============================] - 140s - loss: 0.2150 - acc: 0.3553 - val_loss: 12.0228 - val_acc: 0.04205\n",
      "Epoch 7/10\n",
      "19440/19440 [==============================] - 132s - loss: 0.1926 - acc: 0.3675 - val_loss: 12.3395 - val_acc: 0.0383\n",
      "Epoch 8/10\n",
      "19440/19440 [==============================] - 136s - loss: 0.1613 - acc: 0.3796 - val_loss: 11.1907 - val_acc: 0.0786\n",
      "Epoch 9/10\n",
      "19440/19440 [==============================] - 149s - loss: 0.1471 - acc: 0.3867 - val_loss: 11.7906 - val_acc: 0.0494\n",
      "Epoch 10/10\n",
      "19440/19440 [==============================] - 141s - loss: 0.1315 - acc: 0.3961 - val_loss: 12.3178 - val_acc: 0.0391\n"
     ]
    },
    {
     "data": {
      "text/plain": [
       "<keras.callbacks.History at 0x144cc5f28>"
      ]
     },
     "execution_count": 11,
     "metadata": {},
     "output_type": "execute_result"
    }
   ],
   "source": [
    "inputs = Input(shape=(params.FLAGS.img_h, params.FLAGS.img_w, params.FLAGS.img_c))\n",
    "x=Lambda(lambda x:x/255.0-0.5)(inputs)\n",
    "x=Conv2D(16, (3, 3), activation=\"relu\")(x)\n",
    "x=MaxPooling2D(pool_size=(2,2))(x)\n",
    "x=Conv2D(32, (3, 3), activation=\"relu\")(x)\n",
    "x=MaxPooling2D(pool_size=(2,2))(x)\n",
    "x=Conv2D(64, (3, 3), activation=\"relu\")(x)\n",
    "x=MaxPooling2D(pool_size=(2,2))(x)\n",
    "x=Flatten()(x)\n",
    "x=Dense(500, activation='relu')(x)\n",
    "x=Dense(100, activation='relu')(x)\n",
    "x=Dense(20, activation='relu')(x)\n",
    "outputs=Dense(1)(x)\n",
    "model = Model(inputs=inputs,outputs=outputs)\n",
    "model.compile(optimizer=optimizers.Adadelta(),\n",
    "              loss='mse',\n",
    "              metrics=['accuracy'])\n",
    "model.fit(x=X_train,y=y_train,epochs=10,validation_split=0.2)\n"
   ]
  },
  {
   "cell_type": "code",
   "execution_count": 13,
   "metadata": {},
   "outputs": [
    {
     "name": "stdout",
     "output_type": "stream",
     "text": [
      "2688/2700 [============================>.] - ETA: 0s"
     ]
    }
   ],
   "source": [
    "model.save_weights('simple-model.h5')\n",
    "with open('simple-model.json', 'w') as f:\n",
    "    f.write(model.to_json())\n"
   ]
  },
  {
   "cell_type": "code",
   "execution_count": 14,
   "metadata": {},
   "outputs": [
    {
     "name": "stdout",
     "output_type": "stream",
     "text": [
      "2688/2700 [============================>.] - ETA: 0sTest loss is:[2.4656140373150506, 0.11814814810399656]\n"
     ]
    }
   ],
   "source": [
    "test_loss= model.evaluate(X_test, y_test)\n",
    "print('Test loss is:{}'.format(test_loss))"
   ]
  },
  {
   "cell_type": "code",
   "execution_count": 13,
   "metadata": {},
   "outputs": [
    {
     "ename": "ModuleNotFoundError",
     "evalue": "No module named 'easydict'",
     "output_type": "error",
     "traceback": [
      "\u001b[0;31m---------------------------------------------------------------------------\u001b[0m",
      "\u001b[0;31mModuleNotFoundError\u001b[0m                       Traceback (most recent call last)",
      "\u001b[0;32m<ipython-input-13-6ad93b3b25b4>\u001b[0m in \u001b[0;36m<module>\u001b[0;34m()\u001b[0m\n\u001b[1;32m      4\u001b[0m \u001b[0;32mimport\u001b[0m \u001b[0mkeras\u001b[0m\u001b[0;34m\u001b[0m\u001b[0m\n\u001b[1;32m      5\u001b[0m \u001b[0;32mimport\u001b[0m \u001b[0mparams\u001b[0m\u001b[0;34m\u001b[0m\u001b[0m\n\u001b[0;32m----> 6\u001b[0;31m \u001b[0;32mimport\u001b[0m \u001b[0measydict\u001b[0m\u001b[0;34m\u001b[0m\u001b[0m\n\u001b[0m",
      "\u001b[0;31mModuleNotFoundError\u001b[0m: No module named 'easydict'"
     ]
    }
   ],
   "source": []
  },
  {
   "cell_type": "code",
   "execution_count": 12,
   "metadata": {},
   "outputs": [
    {
     "name": "stdout",
     "output_type": "stream",
     "text": [
      "Train on 19440 samples, validate on 4860 samples\n",
      "Epoch 1/20\n",
      "19440/19440 [==============================] - 76s - loss: 19.8994 - mean_squared_error: 19.8994 - val_loss: 13.9571 - val_mean_squared_error: 13.9571\n",
      "Epoch 2/20\n",
      "19440/19440 [==============================] - 77s - loss: 18.4518 - mean_squared_error: 18.4518 - val_loss: 13.4024 - val_mean_squared_error: 13.4024\n",
      "Epoch 3/20\n",
      "19440/19440 [==============================] - 75s - loss: 17.8210 - mean_squared_error: 17.8210 - val_loss: 13.8358 - val_mean_squared_error: 13.8358\n",
      "Epoch 4/20\n",
      "19440/19440 [==============================] - 78s - loss: 17.6269 - mean_squared_error: 17.6269 - val_loss: 14.0980 - val_mean_squared_error: 14.0980\n",
      "Epoch 5/20\n",
      "19440/19440 [==============================] - 78s - loss: 17.5061 - mean_squared_error: 17.5061 - val_loss: 14.1102 - val_mean_squared_error: 14.1102\n",
      "Epoch 6/20\n",
      "19440/19440 [==============================] - 80s - loss: 17.4678 - mean_squared_error: 17.4678 - val_loss: 13.6723 - val_mean_squared_error: 13.6723\n",
      "Epoch 7/20\n",
      "19440/19440 [==============================] - 80s - loss: 17.4145 - mean_squared_error: 17.4145 - val_loss: 13.9210 - val_mean_squared_error: 13.9210\n",
      "Epoch 8/20\n",
      "19440/19440 [==============================] - 80s - loss: 17.4251 - mean_squared_error: 17.4251 - val_loss: 13.8769 - val_mean_squared_error: 13.8769\n",
      "Epoch 9/20\n",
      "19440/19440 [==============================] - 82s - loss: 17.3829 - mean_squared_error: 17.3829 - val_loss: 13.2867 - val_mean_squared_error: 13.2867\n",
      "Epoch 10/20\n",
      "19440/19440 [==============================] - 77s - loss: 17.3651 - mean_squared_error: 17.3651 - val_loss: 14.1737 - val_mean_squared_error: 14.1737\n",
      "Epoch 11/20\n",
      "19440/19440 [==============================] - 84s - loss: 17.3428 - mean_squared_error: 17.3428 - val_loss: 14.1301 - val_mean_squared_error: 14.1301\n",
      "Epoch 12/20\n",
      "19440/19440 [==============================] - 82s - loss: 17.3314 - mean_squared_error: 17.3314 - val_loss: 14.3974 - val_mean_squared_error: 14.3974\n",
      "Epoch 13/20\n",
      "19440/19440 [==============================] - 76s - loss: 17.3229 - mean_squared_error: 17.3229 - val_loss: 14.3571 - val_mean_squared_error: 14.3571\n",
      "Epoch 14/20\n",
      "19440/19440 [==============================] - 82s - loss: 17.3125 - mean_squared_error: 17.3125 - val_loss: 14.2881 - val_mean_squared_error: 14.2881\n",
      "Epoch 15/20\n",
      "19440/19440 [==============================] - 86s - loss: 17.3332 - mean_squared_error: 17.3332 - val_loss: 14.2859 - val_mean_squared_error: 14.2859\n",
      "Epoch 16/20\n",
      "19440/19440 [==============================] - 85s - loss: 17.3033 - mean_squared_error: 17.3033 - val_loss: 14.1707 - val_mean_squared_error: 14.1707\n",
      "Epoch 17/20\n",
      "19440/19440 [==============================] - 75s - loss: 17.3016 - mean_squared_error: 17.3016 - val_loss: 14.2138 - val_mean_squared_error: 14.2138\n",
      "Epoch 18/20\n",
      "19440/19440 [==============================] - 78s - loss: 17.2904 - mean_squared_error: 17.2904 - val_loss: 14.2364 - val_mean_squared_error: 14.2364\n",
      "Epoch 19/20\n",
      "19440/19440 [==============================] - 77s - loss: 17.2839 - mean_squared_error: 17.2839 - val_loss: 14.3272 - val_mean_squared_error: 14.3272\n",
      "Epoch 20/20\n",
      " 9120/19440 [=============>................] - ETA: 38s - loss: 16.7736 - mean_squared_error: 16.7736"
     ]
    },
    {
     "ename": "KeyboardInterrupt",
     "evalue": "",
     "output_type": "error",
     "traceback": [
      "\u001b[0;31m---------------------------------------------------------------------------\u001b[0m",
      "\u001b[0;31mKeyboardInterrupt\u001b[0m                         Traceback (most recent call last)",
      "\u001b[0;32m<ipython-input-12-637254b67304>\u001b[0m in \u001b[0;36m<module>\u001b[0;34m()\u001b[0m\n\u001b[1;32m     18\u001b[0m               \u001b[0mloss\u001b[0m\u001b[0;34m=\u001b[0m\u001b[0;34m'mse'\u001b[0m\u001b[0;34m,\u001b[0m\u001b[0;34m\u001b[0m\u001b[0m\n\u001b[1;32m     19\u001b[0m               metrics=['mse'])\n\u001b[0;32m---> 20\u001b[0;31m \u001b[0mmodel\u001b[0m\u001b[0;34m.\u001b[0m\u001b[0mfit\u001b[0m\u001b[0;34m(\u001b[0m\u001b[0mx\u001b[0m\u001b[0;34m=\u001b[0m\u001b[0mX_train\u001b[0m\u001b[0;34m,\u001b[0m\u001b[0my\u001b[0m\u001b[0;34m=\u001b[0m\u001b[0my_train\u001b[0m\u001b[0;34m,\u001b[0m\u001b[0mepochs\u001b[0m\u001b[0;34m=\u001b[0m\u001b[0;36m20\u001b[0m\u001b[0;34m,\u001b[0m\u001b[0mvalidation_split\u001b[0m\u001b[0;34m=\u001b[0m\u001b[0;36m0.2\u001b[0m\u001b[0;34m)\u001b[0m\u001b[0;34m\u001b[0m\u001b[0m\n\u001b[0m",
      "\u001b[0;32m/Users/lintao/anaconda/lib/python3.6/site-packages/keras/engine/training.py\u001b[0m in \u001b[0;36mfit\u001b[0;34m(self, x, y, batch_size, epochs, verbose, callbacks, validation_split, validation_data, shuffle, class_weight, sample_weight, initial_epoch, **kwargs)\u001b[0m\n\u001b[1;32m   1428\u001b[0m                               \u001b[0mval_f\u001b[0m\u001b[0;34m=\u001b[0m\u001b[0mval_f\u001b[0m\u001b[0;34m,\u001b[0m \u001b[0mval_ins\u001b[0m\u001b[0;34m=\u001b[0m\u001b[0mval_ins\u001b[0m\u001b[0;34m,\u001b[0m \u001b[0mshuffle\u001b[0m\u001b[0;34m=\u001b[0m\u001b[0mshuffle\u001b[0m\u001b[0;34m,\u001b[0m\u001b[0;34m\u001b[0m\u001b[0m\n\u001b[1;32m   1429\u001b[0m                               \u001b[0mcallback_metrics\u001b[0m\u001b[0;34m=\u001b[0m\u001b[0mcallback_metrics\u001b[0m\u001b[0;34m,\u001b[0m\u001b[0;34m\u001b[0m\u001b[0m\n\u001b[0;32m-> 1430\u001b[0;31m                               initial_epoch=initial_epoch)\n\u001b[0m\u001b[1;32m   1431\u001b[0m \u001b[0;34m\u001b[0m\u001b[0m\n\u001b[1;32m   1432\u001b[0m     \u001b[0;32mdef\u001b[0m \u001b[0mevaluate\u001b[0m\u001b[0;34m(\u001b[0m\u001b[0mself\u001b[0m\u001b[0;34m,\u001b[0m \u001b[0mx\u001b[0m\u001b[0;34m,\u001b[0m \u001b[0my\u001b[0m\u001b[0;34m,\u001b[0m \u001b[0mbatch_size\u001b[0m\u001b[0;34m=\u001b[0m\u001b[0;36m32\u001b[0m\u001b[0;34m,\u001b[0m \u001b[0mverbose\u001b[0m\u001b[0;34m=\u001b[0m\u001b[0;36m1\u001b[0m\u001b[0;34m,\u001b[0m \u001b[0msample_weight\u001b[0m\u001b[0;34m=\u001b[0m\u001b[0;32mNone\u001b[0m\u001b[0;34m)\u001b[0m\u001b[0;34m:\u001b[0m\u001b[0;34m\u001b[0m\u001b[0m\n",
      "\u001b[0;32m/Users/lintao/anaconda/lib/python3.6/site-packages/keras/engine/training.py\u001b[0m in \u001b[0;36m_fit_loop\u001b[0;34m(self, f, ins, out_labels, batch_size, epochs, verbose, callbacks, val_f, val_ins, shuffle, callback_metrics, initial_epoch)\u001b[0m\n\u001b[1;32m   1077\u001b[0m                 \u001b[0mbatch_logs\u001b[0m\u001b[0;34m[\u001b[0m\u001b[0;34m'size'\u001b[0m\u001b[0;34m]\u001b[0m \u001b[0;34m=\u001b[0m \u001b[0mlen\u001b[0m\u001b[0;34m(\u001b[0m\u001b[0mbatch_ids\u001b[0m\u001b[0;34m)\u001b[0m\u001b[0;34m\u001b[0m\u001b[0m\n\u001b[1;32m   1078\u001b[0m                 \u001b[0mcallbacks\u001b[0m\u001b[0;34m.\u001b[0m\u001b[0mon_batch_begin\u001b[0m\u001b[0;34m(\u001b[0m\u001b[0mbatch_index\u001b[0m\u001b[0;34m,\u001b[0m \u001b[0mbatch_logs\u001b[0m\u001b[0;34m)\u001b[0m\u001b[0;34m\u001b[0m\u001b[0m\n\u001b[0;32m-> 1079\u001b[0;31m                 \u001b[0mouts\u001b[0m \u001b[0;34m=\u001b[0m \u001b[0mf\u001b[0m\u001b[0;34m(\u001b[0m\u001b[0mins_batch\u001b[0m\u001b[0;34m)\u001b[0m\u001b[0;34m\u001b[0m\u001b[0m\n\u001b[0m\u001b[1;32m   1080\u001b[0m                 \u001b[0;32mif\u001b[0m \u001b[0;32mnot\u001b[0m \u001b[0misinstance\u001b[0m\u001b[0;34m(\u001b[0m\u001b[0mouts\u001b[0m\u001b[0;34m,\u001b[0m \u001b[0mlist\u001b[0m\u001b[0;34m)\u001b[0m\u001b[0;34m:\u001b[0m\u001b[0;34m\u001b[0m\u001b[0m\n\u001b[1;32m   1081\u001b[0m                     \u001b[0mouts\u001b[0m \u001b[0;34m=\u001b[0m \u001b[0;34m[\u001b[0m\u001b[0mouts\u001b[0m\u001b[0;34m]\u001b[0m\u001b[0;34m\u001b[0m\u001b[0m\n",
      "\u001b[0;32m/Users/lintao/anaconda/lib/python3.6/site-packages/keras/backend/tensorflow_backend.py\u001b[0m in \u001b[0;36m__call__\u001b[0;34m(self, inputs)\u001b[0m\n\u001b[1;32m   2266\u001b[0m         updated = session.run(self.outputs + [self.updates_op],\n\u001b[1;32m   2267\u001b[0m                               \u001b[0mfeed_dict\u001b[0m\u001b[0;34m=\u001b[0m\u001b[0mfeed_dict\u001b[0m\u001b[0;34m,\u001b[0m\u001b[0;34m\u001b[0m\u001b[0m\n\u001b[0;32m-> 2268\u001b[0;31m                               **self.session_kwargs)\n\u001b[0m\u001b[1;32m   2269\u001b[0m         \u001b[0;32mreturn\u001b[0m \u001b[0mupdated\u001b[0m\u001b[0;34m[\u001b[0m\u001b[0;34m:\u001b[0m\u001b[0mlen\u001b[0m\u001b[0;34m(\u001b[0m\u001b[0mself\u001b[0m\u001b[0;34m.\u001b[0m\u001b[0moutputs\u001b[0m\u001b[0;34m)\u001b[0m\u001b[0;34m]\u001b[0m\u001b[0;34m\u001b[0m\u001b[0m\n\u001b[1;32m   2270\u001b[0m \u001b[0;34m\u001b[0m\u001b[0m\n",
      "\u001b[0;32m/Users/lintao/anaconda/lib/python3.6/site-packages/tensorflow/python/client/session.py\u001b[0m in \u001b[0;36mrun\u001b[0;34m(self, fetches, feed_dict, options, run_metadata)\u001b[0m\n\u001b[1;32m    765\u001b[0m     \u001b[0;32mtry\u001b[0m\u001b[0;34m:\u001b[0m\u001b[0;34m\u001b[0m\u001b[0m\n\u001b[1;32m    766\u001b[0m       result = self._run(None, fetches, feed_dict, options_ptr,\n\u001b[0;32m--> 767\u001b[0;31m                          run_metadata_ptr)\n\u001b[0m\u001b[1;32m    768\u001b[0m       \u001b[0;32mif\u001b[0m \u001b[0mrun_metadata\u001b[0m\u001b[0;34m:\u001b[0m\u001b[0;34m\u001b[0m\u001b[0m\n\u001b[1;32m    769\u001b[0m         \u001b[0mproto_data\u001b[0m \u001b[0;34m=\u001b[0m \u001b[0mtf_session\u001b[0m\u001b[0;34m.\u001b[0m\u001b[0mTF_GetBuffer\u001b[0m\u001b[0;34m(\u001b[0m\u001b[0mrun_metadata_ptr\u001b[0m\u001b[0;34m)\u001b[0m\u001b[0;34m\u001b[0m\u001b[0m\n",
      "\u001b[0;32m/Users/lintao/anaconda/lib/python3.6/site-packages/tensorflow/python/client/session.py\u001b[0m in \u001b[0;36m_run\u001b[0;34m(self, handle, fetches, feed_dict, options, run_metadata)\u001b[0m\n\u001b[1;32m    963\u001b[0m     \u001b[0;32mif\u001b[0m \u001b[0mfinal_fetches\u001b[0m \u001b[0;32mor\u001b[0m \u001b[0mfinal_targets\u001b[0m\u001b[0;34m:\u001b[0m\u001b[0;34m\u001b[0m\u001b[0m\n\u001b[1;32m    964\u001b[0m       results = self._do_run(handle, final_targets, final_fetches,\n\u001b[0;32m--> 965\u001b[0;31m                              feed_dict_string, options, run_metadata)\n\u001b[0m\u001b[1;32m    966\u001b[0m     \u001b[0;32melse\u001b[0m\u001b[0;34m:\u001b[0m\u001b[0;34m\u001b[0m\u001b[0m\n\u001b[1;32m    967\u001b[0m       \u001b[0mresults\u001b[0m \u001b[0;34m=\u001b[0m \u001b[0;34m[\u001b[0m\u001b[0;34m]\u001b[0m\u001b[0;34m\u001b[0m\u001b[0m\n",
      "\u001b[0;32m/Users/lintao/anaconda/lib/python3.6/site-packages/tensorflow/python/client/session.py\u001b[0m in \u001b[0;36m_do_run\u001b[0;34m(self, handle, target_list, fetch_list, feed_dict, options, run_metadata)\u001b[0m\n\u001b[1;32m   1013\u001b[0m     \u001b[0;32mif\u001b[0m \u001b[0mhandle\u001b[0m \u001b[0;32mis\u001b[0m \u001b[0;32mNone\u001b[0m\u001b[0;34m:\u001b[0m\u001b[0;34m\u001b[0m\u001b[0m\n\u001b[1;32m   1014\u001b[0m       return self._do_call(_run_fn, self._session, feed_dict, fetch_list,\n\u001b[0;32m-> 1015\u001b[0;31m                            target_list, options, run_metadata)\n\u001b[0m\u001b[1;32m   1016\u001b[0m     \u001b[0;32melse\u001b[0m\u001b[0;34m:\u001b[0m\u001b[0;34m\u001b[0m\u001b[0m\n\u001b[1;32m   1017\u001b[0m       return self._do_call(_prun_fn, self._session, handle, feed_dict,\n",
      "\u001b[0;32m/Users/lintao/anaconda/lib/python3.6/site-packages/tensorflow/python/client/session.py\u001b[0m in \u001b[0;36m_do_call\u001b[0;34m(self, fn, *args)\u001b[0m\n\u001b[1;32m   1020\u001b[0m   \u001b[0;32mdef\u001b[0m \u001b[0m_do_call\u001b[0m\u001b[0;34m(\u001b[0m\u001b[0mself\u001b[0m\u001b[0;34m,\u001b[0m \u001b[0mfn\u001b[0m\u001b[0;34m,\u001b[0m \u001b[0;34m*\u001b[0m\u001b[0margs\u001b[0m\u001b[0;34m)\u001b[0m\u001b[0;34m:\u001b[0m\u001b[0;34m\u001b[0m\u001b[0m\n\u001b[1;32m   1021\u001b[0m     \u001b[0;32mtry\u001b[0m\u001b[0;34m:\u001b[0m\u001b[0;34m\u001b[0m\u001b[0m\n\u001b[0;32m-> 1022\u001b[0;31m       \u001b[0;32mreturn\u001b[0m \u001b[0mfn\u001b[0m\u001b[0;34m(\u001b[0m\u001b[0;34m*\u001b[0m\u001b[0margs\u001b[0m\u001b[0;34m)\u001b[0m\u001b[0;34m\u001b[0m\u001b[0m\n\u001b[0m\u001b[1;32m   1023\u001b[0m     \u001b[0;32mexcept\u001b[0m \u001b[0merrors\u001b[0m\u001b[0;34m.\u001b[0m\u001b[0mOpError\u001b[0m \u001b[0;32mas\u001b[0m \u001b[0me\u001b[0m\u001b[0;34m:\u001b[0m\u001b[0;34m\u001b[0m\u001b[0m\n\u001b[1;32m   1024\u001b[0m       \u001b[0mmessage\u001b[0m \u001b[0;34m=\u001b[0m \u001b[0mcompat\u001b[0m\u001b[0;34m.\u001b[0m\u001b[0mas_text\u001b[0m\u001b[0;34m(\u001b[0m\u001b[0me\u001b[0m\u001b[0;34m.\u001b[0m\u001b[0mmessage\u001b[0m\u001b[0;34m)\u001b[0m\u001b[0;34m\u001b[0m\u001b[0m\n",
      "\u001b[0;32m/Users/lintao/anaconda/lib/python3.6/site-packages/tensorflow/python/client/session.py\u001b[0m in \u001b[0;36m_run_fn\u001b[0;34m(session, feed_dict, fetch_list, target_list, options, run_metadata)\u001b[0m\n\u001b[1;32m   1002\u001b[0m         return tf_session.TF_Run(session, options,\n\u001b[1;32m   1003\u001b[0m                                  \u001b[0mfeed_dict\u001b[0m\u001b[0;34m,\u001b[0m \u001b[0mfetch_list\u001b[0m\u001b[0;34m,\u001b[0m \u001b[0mtarget_list\u001b[0m\u001b[0;34m,\u001b[0m\u001b[0;34m\u001b[0m\u001b[0m\n\u001b[0;32m-> 1004\u001b[0;31m                                  status, run_metadata)\n\u001b[0m\u001b[1;32m   1005\u001b[0m \u001b[0;34m\u001b[0m\u001b[0m\n\u001b[1;32m   1006\u001b[0m     \u001b[0;32mdef\u001b[0m \u001b[0m_prun_fn\u001b[0m\u001b[0;34m(\u001b[0m\u001b[0msession\u001b[0m\u001b[0;34m,\u001b[0m \u001b[0mhandle\u001b[0m\u001b[0;34m,\u001b[0m \u001b[0mfeed_dict\u001b[0m\u001b[0;34m,\u001b[0m \u001b[0mfetch_list\u001b[0m\u001b[0;34m)\u001b[0m\u001b[0;34m:\u001b[0m\u001b[0;34m\u001b[0m\u001b[0m\n",
      "\u001b[0;31mKeyboardInterrupt\u001b[0m: "
     ]
    }
   ],
   "source": [
    "from keras.layers import *\n",
    "from keras.models import Model\n",
    "from keras import optimizers\n",
    "import keras\n",
    "import params\n",
    "inputs = Input(shape=(params.FLAGS.img_h, params.FLAGS.img_w, params.FLAGS.img_c))\n",
    "x=Lambda(lambda x:x/255.0-0.5)(inputs)\n",
    "x=Conv2D(24, (5, 5), activation=\"relu\", strides=(2, 2), padding=\"valid\")(x)\n",
    "x=Conv2D(36, (5, 5), activation=\"relu\", strides=(2, 2), padding=\"valid\")(x)\n",
    "x=Conv2D(48, (5, 5), activation=\"relu\", strides=(2, 2), padding=\"valid\")(x)\n",
    "x=Conv2D(64, (3, 3), activation=\"relu\", strides=(1, 1), padding=\"valid\")(x)\n",
    "x=Conv2D(64, (3, 3), activation=\"relu\", strides=(1, 1), padding=\"valid\")(x)\n",
    "x=Conv2D(128, (1, 1), activation=\"relu\", strides=(1, 1), padding=\"valid\")(x)\n",
    "# x=Conv2D(128, (3, 3), activation=\"relu\", strides=(1, 1), padding=\"valid\")(x)\n",
    "x=Flatten()(x)\n",
    "x=Dense(1164, activation='relu')(x)\n",
    "x=Dense(100, activation='relu')(x)\n",
    "x=Dense(50, activation='relu')(x)\n",
    "x=Dense(10, activation='relu')(x)\n",
    "outputs=Dense(1, activation='tanh')(x)\n",
    "model = Model(inputs=inputs,outputs=outputs)\n",
    "model.compile(optimizer=optimizers.Adadelta(),\n",
    "              loss='mse',\n",
    "              metrics=['mse'])\n",
    "model.fit(x=X_train,y=y_train,epochs=20,validation_split=0.2)"
   ]
  },
  {
   "cell_type": "code",
   "execution_count": null,
   "metadata": {
    "collapsed": true
   },
   "outputs": [],
   "source": [
    "test_loss= model.evaluate(X_test, y_test)\n",
    "print('Test loss is:{}'.format(test_loss))"
   ]
  },
  {
   "cell_type": "code",
   "execution_count": null,
   "metadata": {
    "collapsed": true
   },
   "outputs": [],
   "source": [
    "model.save_weights('best-model.h5')\n",
    "with open('best-model.json', 'w') as f:\n",
    "    f.write(model.to_json())"
   ]
  },
  {
   "cell_type": "code",
   "execution_count": null,
   "metadata": {
    "collapsed": true
   },
   "outputs": [],
   "source": [
    "def VGG_16(weights_path=None):\n",
    "    model = Sequential()\n",
    "    model.add(ZeroPadding2D((1,1),input_shape=(3,224,224)))\n",
    "    model.add(Convolution2D(64, 3, 3, activation='relu'))\n",
    "    model.add(ZeroPadding2D((1,1)))\n",
    "    model.add(Convolution2D(64, 3, 3, activation='relu'))\n",
    "    model.add(MaxPooling2D((2,2), strides=(2,2)))\n",
    "\n",
    "    model.add(ZeroPadding2D((1,1)))\n",
    "    model.add(Convolution2D(128, 3, 3, activation='relu'))\n",
    "    model.add(ZeroPadding2D((1,1)))\n",
    "    model.add(Convolution2D(128, 3, 3, activation='relu'))\n",
    "    model.add(MaxPooling2D((2,2), strides=(2,2)))\n",
    "\n",
    "    model.add(ZeroPadding2D((1,1)))\n",
    "    model.add(Convolution2D(256, 3, 3, activation='relu'))\n",
    "    model.add(ZeroPadding2D((1,1)))\n",
    "    model.add(Convolution2D(256, 3, 3, activation='relu'))\n",
    "    model.add(ZeroPadding2D((1,1)))\n",
    "    model.add(Convolution2D(256, 3, 3, activation='relu'))\n",
    "    model.add(MaxPooling2D((2,2), strides=(2,2)))\n",
    "\n",
    "    model.add(ZeroPadding2D((1,1)))\n",
    "    model.add(Convolution2D(512, 3, 3, activation='relu'))\n",
    "    model.add(ZeroPadding2D((1,1)))\n",
    "    model.add(Convolution2D(512, 3, 3, activation='relu'))\n",
    "    model.add(ZeroPadding2D((1,1)))\n",
    "    model.add(Convolution2D(512, 3, 3, activation='relu'))\n",
    "    model.add(MaxPooling2D((2,2), strides=(2,2)))\n",
    "\n",
    "    model.add(ZeroPadding2D((1,1)))\n",
    "    model.add(Convolution2D(512, 3, 3, activation='relu'))\n",
    "    model.add(ZeroPadding2D((1,1)))\n",
    "    model.add(Convolution2D(512, 3, 3, activation='relu'))\n",
    "    model.add(ZeroPadding2D((1,1)))\n",
    "    model.add(Convolution2D(512, 3, 3, activation='relu'))\n",
    "    model.add(MaxPooling2D((2,2), strides=(2,2)))\n",
    "\n",
    "    model.add(Flatten())\n",
    "    model.add(Dense(4096, activation='relu'))\n",
    "    model.add(Dropout(0.5))\n",
    "    model.add(Dense(4096, activation='relu'))\n",
    "    model.add(Dropout(0.5))\n",
    "    model.add(Dense(1000, activation='softmax'))\n",
    "\n",
    "    if weights_path:\n",
    "        model.load_weights(weights_path)\n",
    "\n",
    "    return model\n",
    "\n",
    "\n",
    "inputs = Input(shape=(params.FLAGS.img_h, params.FLAGS.img_w, params.FLAGS.img_c))\n",
    "x=Lambda(lambda x:x/255.0-0.5)(inputs)\n",
    "x=Conv2D(64, (3, 3), activation=\"relu\", strides=(1, 1), padding=\"valid\")(x)\n",
    "x=Conv2D(64, (3, 3), activation=\"relu\", strides=(1, 1), padding=\"valid\")(x)\n",
    "x=MaxPooling2D(pool_size=(2,2),strides=(2, 2))(x)\n",
    "\n",
    "x=Conv2D(128, (3, 3), activation=\"relu\", strides=(1, 1), padding=\"valid\")(x)\n",
    "x=Conv2D(128, (3, 3), activation=\"relu\", strides=(1, 1), padding=\"valid\")(x)\n",
    "x=MaxPooling2D(pool_size=(2,2),strides=(2, 2))(x)\n",
    "\n",
    "x=Conv2D(256, (3, 3), activation=\"relu\", strides=(1, 1), padding=\"valid\")(x)\n",
    "x=Conv2D(256, (3, 3), activation=\"relu\", strides=(1, 1), padding=\"valid\")(x)\n",
    "x=MaxPooling2D(pool_size=(2,2),strides=(2, 2))(x)\n",
    "\n",
    "x=Conv2D(512, (3, 3), activation=\"relu\", strides=(1, 1), padding=\"valid\")(x)\n",
    "x=Conv2D(512, (3, 3), activation=\"relu\", strides=(1, 1), padding=\"valid\")(x)\n",
    "x=MaxPooling2D(pool_size=(2,2),strides=(2, 2))(x)\n",
    "\n",
    "x=Conv2D(512, (3, 3), activation=\"relu\", strides=(1, 1), padding=\"valid\")(x)\n",
    "x=Conv2D(512, (3, 3), activation=\"relu\", strides=(1, 1), padding=\"valid\")(x)\n",
    "x=MaxPooling2D(pool_size=(2,2),strides=(2, 2))(x)\n",
    "\n",
    "x=Flatten()(x)\n",
    "x=Dense(4096, activation='relu')(x)\n",
    "x=Dense(1, activation='relu')(x)"
   ]
  }
 ],
 "metadata": {
  "kernelspec": {
   "display_name": "Python 3",
   "language": "python",
   "name": "python3"
  },
  "language_info": {
   "codemirror_mode": {
    "name": "ipython",
    "version": 3
   },
   "file_extension": ".py",
   "mimetype": "text/x-python",
   "name": "python",
   "nbconvert_exporter": "python",
   "pygments_lexer": "ipython3",
   "version": "3.6.1"
  }
 },
 "nbformat": 4,
 "nbformat_minor": 1
}
